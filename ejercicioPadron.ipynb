{
 "cells": [
  {
   "cell_type": "markdown",
   "id": "e66abb9f",
   "metadata": {},
   "source": [
    "## Práctica Hive + Impala + HDFS + Spark + Hue\n",
    "\n",
    "Para esta práctica voy a utilizar la VM con Hue, por lo tanto usaré este notebook únicamente para documentar paso a paso las querys que voy ejecutando."
   ]
  },
  {
   "cell_type": "markdown",
   "id": "81088c51",
   "metadata": {},
   "source": [
    "### 1- Creación de tablas en formato texto"
   ]
  },
  {
   "cell_type": "markdown",
   "id": "6a2e8490",
   "metadata": {},
   "source": [
    "##### • 1.1) Crear Base de datos \"datos_padron\""
   ]
  },
  {
   "cell_type": "raw",
   "id": "a24bfdd5",
   "metadata": {},
   "source": [
    "CREATE DATABASE datos_padron;\n",
    "USE datos_padron;"
   ]
  },
  {
   "cell_type": "markdown",
   "id": "8adddd6d",
   "metadata": {},
   "source": [
    "##### 1.2) Crear la tabla de datos padron_txt con todos los campos del fichero CSV y cargar los datos mediante el comando LOAD DATA LOCAL INPATH. La tabla tendrá formato texto y tendrá como delimitador de campo el caracter ';' y los campos que en el documento original están encerrados en comillas dobles '\"' no deben estar envueltos en estos caracteres en la tabla de Hive (es importante indicar esto utilizando el serde de OpenCSV, si no la importación de las variables que hemos indicado como numéricas fracasará ya que al estar envueltos en comillas los toma como strings) y se deberá omitir la cabecera del fichero de datos al crear la tabla."
   ]
  },
  {
   "cell_type": "raw",
   "id": "e3616ce9",
   "metadata": {},
   "source": [
    "CREATE TABLE IF NOT EXISTS  padron_txt\n",
    "(COD_DISTRITO Double,\n",
    "DESC_DISTRITO String,\n",
    "COD_DIST_BARRIO Int,\n",
    "DESC_BARRIO String,\n",
    "COD_BARRIO Int,\n",
    "COD_DIST_SECCION Int,\n",
    "COD_SECCION Int,\n",
    "COD_EDAD_INT Int,\n",
    "EspanolesHombres Int,\n",
    "EspanolesMujeres Int,\n",
    "ExtranjerosHombres Int,\n",
    "ExtranjerosMujeres Int) ROW FORMAT SERDE 'org.apache.hadoop.hive.serde2.OpenCSVSerde' \n",
    "WITH SERDEPROPERTIES (\n",
    "    \"separatorChar\" = \";\"\n",
    ");\n",
    "\n",
    "load data inpath '/user/cloudera/hivepadron.csv' into table datos_padron.padron_txt;\n",
    "\n",
    "ALTER TABLE padron_txt SET TBLPROPERTIES (\"skip.header.line.count\"=\"1\");\n",
    "\n",
    "describe padron_txt;\n",
    "\n",
    "select * from padron_txt limit 5;"
   ]
  },
  {
   "cell_type": "markdown",
   "id": "547f073a",
   "metadata": {},
   "source": [
    "Con el código show create table padron_txt; podemos ver que la tabla fue guardada en formato txt. El problema es que al importar la tabla con el serde de opencsv no se puede cambiar a numérica las columnas de números, las toma como referencia tipo string. Este punto no lo consigo solucionar. He leído que para solucionarlo se debe crear una vista donde se castee los tipos que deseemos, pero claro está, que al realizar la vista obtenemos una tabla temporal y no la podremos guardar, o eso creo. "
   ]
  },
  {
   "cell_type": "raw",
   "id": "75e92e5e",
   "metadata": {},
   "source": [
    "with padron_txt_1 as (\n",
    "select cast(cod_distrito as int) as cod_distrito, \n",
    "       desc_distrito as desc_distrito,\n",
    "       cast(cod_dist_barrio as Int) as cod_dist_barrio,\n",
    "       desc_barrio as desc_barrio,\n",
    "       cast(cod_barrio as int) as cod_barrio,\n",
    "       cast(cod_dist_seccion as int) as cod_dist_seccion,\n",
    "       cast(cod_seccion as int) as cod_seccion,\n",
    "       cast(cod_edad_int as int) as cod_edad_int,\n",
    "       cast(espanoleshombres as int) as espanoleshombres,\n",
    "       cast(espanolesmujeres as int) as espanolesmujeres,\n",
    "       cast(extranjeroshombres as int) as extranjeroshombres,\n",
    "       cast(extranjerosmujeres as int) as extranjerosmujeres\n",
    "from padron_txt)\n",
    "select * from padron_txt"
   ]
  },
  {
   "cell_type": "markdown",
   "id": "e7e25684",
   "metadata": {},
   "source": [
    "##### • 1.3) Hacer trim sobre los datos para eliminar los espacios innecesarios guardando la tabla resultado como padron_txt_2. (Este apartado se puede hacer creando la tabla con una sentencia CTAS.)"
   ]
  },
  {
   "cell_type": "raw",
   "id": "a8b73ea9",
   "metadata": {},
   "source": [
    "with padron_txt_2 as (\n",
    "select cast(cod_distrito as int) as cod_distrito, \n",
    "       trim(desc_distrito) as desc_distrito,\n",
    "       cast(cod_dist_barrio as Int) as cod_dist_barrio,\n",
    "       trim(desc_barrio) as desc_barrio,\n",
    "       cast(cod_barrio as int) as cod_barrio,\n",
    "       cast(cod_dist_seccion as int) as cod_dist_seccion,\n",
    "       cast(cod_seccion as int) as cod_seccion,\n",
    "       cast(cod_edad_int as int) as cod_edad_int,\n",
    "       cast(espanoleshombres as int) as espanoleshombres,\n",
    "       cast(espanolesmujeres as int) as espanolesmujeres,\n",
    "       cast(extranjeroshombres as int) as extranjeroshombres,\n",
    "       cast(extranjerosmujeres as int) as extranjerosmujeres\n",
    "from padron_txt)\n",
    "select * from padron_txt"
   ]
  },
  {
   "cell_type": "markdown",
   "id": "8cb753ab",
   "metadata": {},
   "source": [
    "En este punto hice trim y aproveché para castear las columnas numéricas que se encontraban de tipo string a int en una nueva tabla llamada padron_txt_2, el problema es que la creo y puedo ejecutar funciones más no se guarda la tabla, por ende no me sirve para lo que me piden. En el siguiente código intentaré crearla de otra forma."
   ]
  },
  {
   "cell_type": "raw",
   "id": "db31f689",
   "metadata": {},
   "source": [
    "create table if not exists padron_txt_2 \n",
    "stored as TEXTFILE\n",
    "as \n",
    "select cast(cod_distrito as int) as cod_distrito, \n",
    "       trim(desc_distrito) as desc_distrito,\n",
    "       cast(cod_dist_barrio as Int) as cod_dist_barrio,\n",
    "       trim(desc_barrio) as desc_barrio,\n",
    "       cast(cod_barrio as int) as cod_barrio,\n",
    "       cast(cod_dist_seccion as int) as cod_dist_seccion,\n",
    "       cast(cod_seccion as int) as cod_seccion,\n",
    "       cast(cod_edad_int as int) as cod_edad_int,\n",
    "       cast(espanoleshombres as int) as espanoleshombres,\n",
    "       cast(espanolesmujeres as int) as espanolesmujeres,\n",
    "       cast(extranjeroshombres as int) as extranjeroshombres,\n",
    "       cast(extranjerosmujeres as int) as extranjerosmujeres\n",
    "from padron_txt;"
   ]
  },
  {
   "cell_type": "markdown",
   "id": "19659b28",
   "metadata": {},
   "source": [
    "Ahora con este código vemos como si se ejecuta y se guarda tal como lo requeríamos, haciendo trim y cast en las columnas descritas."
   ]
  },
  {
   "cell_type": "raw",
   "id": "5cda9316",
   "metadata": {},
   "source": [
    "Con este código modificamos una tabla, tipo castearla:\n",
    "\n",
    "alter table padron_txt change cod_distrito cod_distrito Double; "
   ]
  },
  {
   "cell_type": "markdown",
   "id": "3f4cf6a9",
   "metadata": {},
   "source": [
    "##### • 1.4) Investigar y entender la diferencia de incluir la palabra LOCAL en el comando LOAD DATA.\n",
    "\n",
    "La diferencia está en si la ruta depende de hadoop o se encuentra de manera local"
   ]
  },
  {
   "cell_type": "markdown",
   "id": "edcfac2d",
   "metadata": {},
   "source": [
    "##### • 1.5) En este momento te habrás dado cuenta de un aspecto importante, los datos nulos de nuestras tablas vienen representados por un espacio vacío y no por un identificador de nulos comprensible para la tabla. Esto puede ser un problema para el tratamiento posterior de los datos. Podrías solucionar esto creando una nueva tabla utiliando sentencias case when que sustituyan espacios en blanco por 0. Para esto primero comprobaremos que solo hay espacios en blanco en las variables numéricas correspondientes a las últimas 4 variables de nuestra tabla (podemos hacerlo con alguna sentencia de HiveQL) y luego aplicaremos las sentencias case when para sustituir por 0 los espacios en blanco. (Pista: es útil darse cuenta de que un espacio vacío es un campo con longitud 0). Haz esto solo para la tabla padron_txt."
   ]
  },
  {
   "cell_type": "markdown",
   "id": "7a12b874",
   "metadata": {},
   "source": [
    "Comienzo dandome cuenta que la tabla padron_txt (donde todo es string) me aparecen los datos que debería cambiar a 0 como un espacio en blanco, en cambio, en la tabla padron_txt_2 donde los castee a tipo int me aparecen como NULL. La intención sería cambiar estos a 0."
   ]
  },
  {
   "cell_type": "raw",
   "id": "86e2fc6d",
   "metadata": {},
   "source": [
    "select count(espanoleshombres)\n",
    "from padron_txt_2\n",
    "where espanoleshombres is null;"
   ]
  },
  {
   "cell_type": "raw",
   "id": "456bde08",
   "metadata": {},
   "source": [
    "select count(espanoleshombres)\n",
    "from padron_txt\n",
    "where espanoleshombres = '';"
   ]
  },
  {
   "cell_type": "raw",
   "id": "91af637a",
   "metadata": {},
   "source": [
    "select\n",
    "    case when espanoleshombres = '' then 0\n",
    "    else espanoleshombres end as espanoleshombres,\n",
    "    case when espanolesmujeres = '' then 0\n",
    "    else espanolesmujeres end as espanolesmujeres,\n",
    "    case when extranjeroshombres = '' then 0\n",
    "    else extranjeroshombres end as extranjeroshombres,\n",
    "    case when extranjerosmujeres = '' then 0\n",
    "    else extranjerosmujeres end as extranjerosmujeres    \n",
    "from padron_txt"
   ]
  },
  {
   "cell_type": "raw",
   "id": "1f7b44ef",
   "metadata": {},
   "source": [
    "select\n",
    "    case when espanoleshombres is null then 0\n",
    "    else espanoleshombres end as espanoleshombres,\n",
    "    case when espanolesmujeres is null then 0\n",
    "    else espanolesmujeres end as espanolesmujeres,\n",
    "    case when extranjeroshombres is null then 0\n",
    "    else extranjeroshombres end as extranjeroshombres,\n",
    "    case when extranjerosmujeres is null then 0\n",
    "    else extranjerosmujeres end as extranjerosmujeres    \n",
    "from padron_txt_2;"
   ]
  },
  {
   "cell_type": "markdown",
   "id": "02f66633",
   "metadata": {},
   "source": [
    "##### • 1.6) Una manera tremendamente potente de solucionar todos los problemas previos (tanto las comillas como los campos vacíos que no son catalogados como null y los espacios innecesarios) es utilizar expresiones regulares (regex) que nos proporciona OpenCSV. Para ello utilizamos:\n",
    "##### ROW FORMAT SERDE 'org.apache.hadoop.hive.serde2.RegexSerDe'\n",
    "##### WITH SERDEPROPERTIES ('input.regex'='XXXXXXX')\n",
    "##### Donde XXXXXX representa una expresión regular que debes completar y que identifique el formato exacto con el que debemos interpretar cada una de las filas de nuestro CSV de entrada. Para ello puede ser útil el portal \"regex101\". Utiliza este método para crear de nuevo la tabla padron_txt_2. Una vez finalizados todos estos apartados deberíamos tener una tabla padron_txt que conserve los espacios innecesarios, no tenga comillas envolviendo los campos y los campos nulos sean tratados como valor 0 y otra tabla padron_txt_2 sin espacios innecesarios, sin comillas envolviendo los campos y con los campos nulos como valor 0. Idealmente esta tabla ha sido creada con las regex de OpenCSV."
   ]
  },
  {
   "cell_type": "markdown",
   "id": "696a95af",
   "metadata": {},
   "source": [
    "### 2- Investigamos el formato columnar parquet\n",
    "\n",
    "##### • 2.1) ¿Qué es CTAS?\n",
    "\n",
    "Es una manera de crear una nueva tabla partiendo como base de una tabla ya existente"
   ]
  },
  {
   "cell_type": "markdown",
   "id": "6f115e4c",
   "metadata": {},
   "source": [
    "##### • 2.2) Crear tabla Hive padron_parquet (cuyos datos serán almacenados en el formato columnar parquet) a través de la tabla padron_txt mediante un CTAS.\n",
    "\n",
    "No estoy seguro que esta sea la forma coorecta de crear una tabla mediante un CTAS, en la siguiente pregunta si realizo esa creación de esa manera, pero en esta lo hago asi para tambien tener como ejemplo la creacion de una tabla y luego la introduccion de datos mediante el insert overwrite"
   ]
  },
  {
   "cell_type": "raw",
   "id": "5d912c19",
   "metadata": {},
   "source": [
    "CREATE TABLE IF NOT EXISTS  padron_parquet\n",
    "(COD_DISTRITO Double,\n",
    "DESC_DISTRITO String,\n",
    "COD_DIST_BARRIO Int,\n",
    "DESC_BARRIO String,\n",
    "COD_BARRIO Int,\n",
    "COD_DIST_SECCION Int,\n",
    "COD_SECCION Int,\n",
    "COD_EDAD_INT Int,\n",
    "EspanolesHombres Int,\n",
    "EspanolesMujeres Int,\n",
    "ExtranjerosHombres Int,\n",
    "ExtranjerosMujeres Int)\n",
    "stored as parquet;\n",
    "-- Le decimos que inserte en la tabla padron_parquet los datos de padron_txt\n",
    "from datos_padron.padron_txt insert overwrite table datos_padron.padron_parquet select *;"
   ]
  },
  {
   "cell_type": "markdown",
   "id": "179b65ba",
   "metadata": {},
   "source": [
    "##### • 2.3) Crear tabla Hive padron_parquet_2 a través de la tabla padron_txt_2 mediante un CTAS. En este punto deberíamos tener 4 tablas, 2 en txt (padron_txt y padron_txt_2, la primera con espacios innecesarios y la segunda sin espacios innecesarios) y otras dos tablas en formato parquet (padron_parquet y padron_parquet_2, la primera con espacios y la segunda sin ellos).\n",
    "\n",
    "De la tabla padron_txt_2 (que tiene los tipos como son y trim en los strings) le voy a poner 0 en los valores null de los int, y generaré una nueva tabla formato parquet llamada padron_parquet_2:"
   ]
  },
  {
   "cell_type": "raw",
   "id": "b3a3e14c",
   "metadata": {},
   "source": [
    "create table if not exists padron_parquet_2\n",
    "stored as PARQUET\n",
    "as \n",
    "select cod_distrito, \n",
    "       desc_distrito,\n",
    "       cod_dist_barrio,\n",
    "       desc_barrio,\n",
    "       cod_barrio,\n",
    "       cod_dist_seccion,\n",
    "       cod_seccion,\n",
    "       cod_edad_int,\n",
    "       case when espanoleshombres is null then 0\n",
    "       else espanoleshombres end as espanoleshombres,\n",
    "       case when espanolesmujeres is null then 0\n",
    "       else espanolesmujeres end as espanolesmujeres,\n",
    "       case when extranjeroshombres is null then 0\n",
    "       else extranjeroshombres end as extranjeroshombres,\n",
    "       case when extranjerosmujeres is null then 0\n",
    "       else extranjerosmujeres end as extranjerosmujeres \n",
    "from padron_txt_2;"
   ]
  },
  {
   "cell_type": "markdown",
   "id": "831e3c3e",
   "metadata": {},
   "source": [
    "##### • 2.4) Opcionalmente también se pueden crear las tablas directamente desde 0 (en lugar de mediante CTAS) en formato parquet igual que lo hicimos para el formato txt incluyendo la sentencia STORED AS PARQUET. Es importante para comparaciones posteriores que la tabla padron_parquet conserve los espacios innecesarios y la tabla padron_parquet_2 no los tenga. Dejo a tu elección cómo hacerlo."
   ]
  },
  {
   "cell_type": "markdown",
   "id": "e28f1ed5",
   "metadata": {},
   "source": [
    "Esto fue lo descrito en el ejercicio 2.2, me adelante sin querer."
   ]
  },
  {
   "cell_type": "markdown",
   "id": "20701bcf",
   "metadata": {},
   "source": [
    "##### • 2.5) Investigar en qué consiste el formato columnar parquet y las ventajas de trabajar con este tipo de formatos."
   ]
  },
  {
   "cell_type": "markdown",
   "id": "55ce7c58",
   "metadata": {},
   "source": [
    "Es un formato columnar, comprimido (binario). Utiliza record-shredding para almacenar tipos de datos complejos y anidados (un CSV no es capaz).\n",
    "\n",
    "Almacena el esquema junto a los datos. También máx/mín por columna (resúmenes).\n",
    "\n",
    "Los valores de cada columna se guardan físicamente juntos (almacenamiento columnar). \n",
    "\n",
    "Beneficios:  \n",
    "    * Compresión de datos por cada columna para ahorrar espacio.  \n",
    "    * Se pueden aplicar técnicas de compresión diferentes, específicas según el   tipo de dato que almacena cada columna.  \n",
    "    * Las consultas con filtrados sobre columnas concretas no necesitan leer toda la fila, mejorando el rendimiento.  \n",
    "\n",
    "Preparado para añadir más esquemas de codificación que se desarrollen en el futuro.  \n",
    "\n",
    "No requiere especificar separador de columnas, ni si se incluyen o no nombres de columna(siempre se incluyen por defecto).\n",
    "\n",
    "Es con diferencia el formato más ampliamente utilizado para procesamiento en batch, tanto paradatos de entrada como para guardar resultados, con datos estructurados."
   ]
  },
  {
   "cell_type": "markdown",
   "id": "bcc24b16",
   "metadata": {},
   "source": [
    "##### • 2.6) Comparar el tamaño de los ficheros de los datos de las tablas padron_txt (txt), padron_txt_2 (txt pero no incluye los espacios innecesarios), padron_parquet y padron_parquet_2 (alojados en hdfs cuya ruta se puede obtener de la propiedad location de cada tabla por ejemplo haciendo \"show create table\")."
   ]
  },
  {
   "cell_type": "markdown",
   "id": "5ee6af41",
   "metadata": {},
   "source": [
    "1) padron_txt:  \n",
    "    * LOCATION: 'hdfs://quickstart.cloudera:8020/user/hive/warehouse/datos_padron.db/padron_txt'  \n",
    "    * total Size: 22586201  \n",
    "2) padron_txt_2:  \n",
    "    * LOCATION: 'hdfs://quickstart.cloudera:8020/user/hive/warehouse/datos_padron.db/padron_txt_2'  \n",
    "    * total Size: 12712946  \n",
    "3) padron_parquet:  \n",
    "    * LOCATION: 'hdfs://quickstart.cloudera:8020/user/hive/warehouse/datos_padron.db/padron_parquet'  \n",
    "    * total Size: 875893  \n",
    "4) padron_parquet_2:  \n",
    "    * LOCATION: 'hdfs://quickstart.cloudera:8020/user/hive/warehouse/datos_padron.db/padron_parquet_2'  \n",
    "    * total Size: 938395  \n",
    "\n",
    "Vemos como el tamaño de las tablas parquet ocupan mucho menos que las de tipo text file"
   ]
  },
  {
   "cell_type": "markdown",
   "id": "6fb4c79a",
   "metadata": {},
   "source": [
    "### 3- Juguemos con Impala."
   ]
  },
  {
   "cell_type": "markdown",
   "id": "0ee0f934",
   "metadata": {},
   "source": [
    "##### • 3.1) ¿Qué es Impala?"
   ]
  },
  {
   "cell_type": "markdown",
   "id": "4034b4d7",
   "metadata": {},
   "source": [
    "Motor SQL de elevado performance pensada para operar sobre grandes volúmenes de datos. El motor es procesamiento masivo en\n",
    "paralelo con latencias en milisegundos.\n",
    "Puede ejecutar queries sobre HDFS o Hbase.\n",
    "Desarrollada por cloudera"
   ]
  },
  {
   "cell_type": "markdown",
   "id": "09c50871",
   "metadata": {},
   "source": [
    "##### • 3.2) ¿En qué se diferencia de Hive?"
   ]
  },
  {
   "cell_type": "markdown",
   "id": "22e28f89",
   "metadata": {},
   "source": [
    "Ejecuta las queries sobre el cluster en lugar de ejecutar MapReduce para procesar como es el caso de Hive, y debido a ello es en torno a unas 5 veces más rápido, aunque puede llegar a serlo hasta 20 veces más. Pero no es tan seguro. Así que si buscamos velocidad y no importa la seguridad podemos trabajar con Impala, pero si la seguridad es importante entonces es mejor ir lento pero seguros con Hive."
   ]
  },
  {
   "cell_type": "markdown",
   "id": "3d19ca74",
   "metadata": {},
   "source": [
    "##### • 3.3) Comando INVALIDATE METADATA, ¿en qué consiste?"
   ]
  },
  {
   "cell_type": "markdown",
   "id": "24a859ba",
   "metadata": {},
   "source": [
    "Se utiliza para actualizar los metadatos de toda la base de datos o una tabla, incluidos los metadatos de la tabla y los datos del archivo en la tabla. Primero borrará la memoria caché de la tabla y luego volverá a cargar todos los datos de la store de metadatos y la memoria caché. Esta operación es relativamente cara. Se utiliza principalmente para modificar los metadatos de la tabla en Hive, y debe sincronizarse para impala.\n",
    "\n",
    "Ejemplos:  \n",
    "INVALIDATE METADATA; // Recargar todas las tablas en todas las bibliotecas  \n",
    "INVALIDATE METADATA [table]; // Recargar una tabla especificada"
   ]
  },
  {
   "cell_type": "markdown",
   "id": "4d2715fe",
   "metadata": {},
   "source": [
    "##### • 3.4) Hacer invalidate metadata en Impala de la base de datos datos_padron."
   ]
  },
  {
   "cell_type": "markdown",
   "id": "016b168f",
   "metadata": {},
   "source": [
    "Desde la shell en la VM:  \n",
    "    1) impala-shell  \n",
    "    2) use datos_padron;  \n",
    "    3) invalidate metadata;  \n",
    "\n",
    "Me salió como resultado: Fetched 0 row(s) in 2.22s"
   ]
  },
  {
   "cell_type": "markdown",
   "id": "96a2afed",
   "metadata": {},
   "source": [
    "##### • 3.5) Calcular el total de EspanolesHombres, espanolesMujeres, ExtranjerosHombres y ExtranjerosMujeres agrupado por DESC_DISTRITO y DESC_BARRIO."
   ]
  },
  {
   "cell_type": "markdown",
   "id": "0fe40882",
   "metadata": {},
   "source": [
    "select sum(espanoleshombres) , sum(espanolesmujeres), sum(extranjeroshombres), sum(extranjerosmujeres)\n",
    "from padron_txt_2\n",
    "group by desc_distrito, desc_barrio;"
   ]
  },
  {
   "cell_type": "markdown",
   "id": "d8b39362",
   "metadata": {},
   "source": [
    "##### • 3.6) Llevar a cabo las consultas en Hive en las tablas padron_txt_2 y padron_parquet_2 (No deberían incluir espacios innecesarios). ¿Alguna conclusión?"
   ]
  },
  {
   "cell_type": "markdown",
   "id": "b8e26ce9",
   "metadata": {},
   "source": [
    "select desc_distrito,  \n",
    "       desc_barrio,  \n",
    "       sum(espanoleshombres) as espanoleshombres,  \n",
    "       sum(espanolesmujeres) as espanolesmujeres,  \n",
    "       sum(extranjeroshombres) as extranjeroshombres,  \n",
    "       sum(extranjerosmujeres) as extranjerosmujeres  \n",
    "from padron_parquet_2  \n",
    "group by desc_distrito, desc_barrio;"
   ]
  },
  {
   "attachments": {
    "hivequery5.png": {
     "image/png": "[encoded data removed]"
    }
   },
   "cell_type": "markdown",
   "id": "57ba3c93",
   "metadata": {},
   "source": [
    "![hivequery5.png](attachment:hivequery5.png)"
   ]
  },
  {
   "cell_type": "markdown",
   "id": "d188b7c5",
   "metadata": {},
   "source": [
    "select desc_distrito,  \n",
    "       desc_barrio,  \n",
    "       sum(espanoleshombres) as espanoleshombres,  \n",
    "       sum(espanolesmujeres) as espanolesmujeres,  \n",
    "       sum(extranjeroshombres) as extranjeroshombres,  \n",
    "       sum(extranjerosmujeres) as extranjerosmujeres  \n",
    "from padron_txt_2  \n",
    "group by desc_distrito, desc_barrio;"
   ]
  },
  {
   "attachments": {
    "hivequery5.png": {
     "image/png": "[encoded data removed]"
    }
   },
   "cell_type": "markdown",
   "id": "281e9ff5",
   "metadata": {},
   "source": [
    "![hivequery5.png](attachment:hivequery5.png)"
   ]
  },
  {
   "cell_type": "markdown",
   "id": "033eb9df",
   "metadata": {},
   "source": [
    "Para ver la diferencia entre ambas tablas podemos hacer un count, ya que por lo que entiendo parquet toma en cuenta los valores en 0 (nulos) y la de txt no los toma en cuenta. Recordar que así las hemos creado."
   ]
  },
  {
   "cell_type": "markdown",
   "id": "52c4b0a1",
   "metadata": {},
   "source": [
    "select count(espanoleshombres) , count(espanolesmujeres), count(extranjeroshombres), count(extranjerosmujeres)  \n",
    "from padron_txt_2  \n",
    "group by desc_distrito, desc_barrio;"
   ]
  },
  {
   "attachments": {
    "hivequery3.png": {
     "image/png": "[encoded data removed]"
    }
   },
   "cell_type": "markdown",
   "id": "0e19f195",
   "metadata": {},
   "source": [
    "![hivequery3.png](attachment:hivequery3.png)"
   ]
  },
  {
   "cell_type": "markdown",
   "id": "58b7c8f6",
   "metadata": {},
   "source": [
    "select count(espanoleshombres) , count(espanolesmujeres), count(extranjeroshombres), count(extranjerosmujeres)  \n",
    "from padron_parquet_2  \n",
    "group by desc_distrito, desc_barrio;"
   ]
  },
  {
   "attachments": {
    "hivequery4.png": {
     "image/png": "[encoded data removed]"
    }
   },
   "cell_type": "markdown",
   "id": "800f29bb",
   "metadata": {},
   "source": [
    "![hivequery4.png](attachment:hivequery4.png)\n"
   ]
  },
  {
   "cell_type": "markdown",
   "id": "323c16e7",
   "metadata": {},
   "source": [
    "##### • 3.7) Llevar a cabo la misma consulta sobre las mismas tablas en Impala. ¿Alguna conclusión?"
   ]
  },
  {
   "cell_type": "markdown",
   "id": "51716922",
   "metadata": {},
   "source": [
    "Me parecen dos conclusiones:  \n",
    "    1) La velocidad en la ejecución de la query.  \n",
    "    2) En Hive el resultado ya lo obtengo ordenado, en Impala tuve que agregarle un order by para que me diera el resultado que estaba obteniendo en Hive."
   ]
  },
  {
   "cell_type": "markdown",
   "id": "7108eaec",
   "metadata": {},
   "source": [
    "##### • 3.8) ¿Se percibe alguna diferencia de rendimiento entre Hive e Impala?"
   ]
  },
  {
   "cell_type": "markdown",
   "id": "765cd9a6",
   "metadata": {},
   "source": [
    "Impala es bastante más rápido que Hive."
   ]
  },
  {
   "cell_type": "markdown",
   "id": "3cfbed98",
   "metadata": {},
   "source": [
    "### 4- Sobre tablas particionadas.\n",
    "\n",
    "##### • 4.1) Crear tabla (Hive) padron_particionado particionada por campos DESC_DISTRITO y DESC_BARRIO cuyos datos estén en formato parquet."
   ]
  },
  {
   "cell_type": "markdown",
   "id": "2f738069",
   "metadata": {},
   "source": [
    "CREATE TABLE IF NOT EXISTS padron_particionado\n",
    "(DESC_DISTRITO String,\n",
    "COD_DIST_BARRIO Int,\n",
    "DESC_BARRIO String,\n",
    "COD_DIST_SECCION Int,\n",
    "COD_SECCION Int,\n",
    "COD_EDAD_INT Int,\n",
    "EspanolesHombres Int,\n",
    "EspanolesMujeres Int,\n",
    "ExtranjerosHombres Int,\n",
    "ExtranjerosMujeres Int)\n",
    "partitioned by (COD_DISTRITO Int, COD_BARRIO Int)\n",
    "stored as parquet; "
   ]
  },
  {
   "cell_type": "markdown",
   "id": "cee63c54",
   "metadata": {},
   "source": [
    "##### • 4.2) Insertar datos (en cada partición) dinámicamente (con Hive) en la tabla recién creada a partir de un select de la tabla padron_parquet_2."
   ]
  },
  {
   "cell_type": "markdown",
   "id": "9b4e74a7",
   "metadata": {},
   "source": [
    "from datos_padron.padron_parquet_2 insert overwrite table datos_padron.padron_particionado partition(COD_DISTRITO, COD_BARRIO) select *;  \n",
    "\n",
    "Llegado a este punto no lograba introducirle los datos a la tabla y siempre me generaba error, por lo que tuve que ejecutar estas 7 siguientes líneas de código:  \n",
    "\n",
    "SET hive.exec.dynamic.partition=true;  \n",
    "SET hive.exec.dynamic.partition.mode=non-strict;  \n",
    "SET hive.exec.max.dynamic.partitions = 10000;  \n",
    "SET hive.exec.max.dynamic.partitions.pernode = 1000;  \n",
    "SET mapreduce.map.memory.mb = 2048;  \n",
    "SET mapreduce.reduce.memory.mb = 2048;  \n",
    "SET mapreduce.map.java.opts=-Xmx1800m;  \n"
   ]
  },
  {
   "cell_type": "markdown",
   "id": "0547d30e",
   "metadata": {},
   "source": [
    "##### • 4.3) Hacer invalidate metadata en Impala de la base de datos padron_particionado."
   ]
  },
  {
   "cell_type": "markdown",
   "id": "00f460e1",
   "metadata": {},
   "source": [
    "Desde Impala..\n",
    "\n",
    "INVALIDATE METADATA datos_padron.padron_particionado;"
   ]
  },
  {
   "cell_type": "markdown",
   "id": "a514fb54",
   "metadata": {},
   "source": [
    "##### • 4.4) Calcular el total de EspanolesHombres, EspanolesMujeres, ExtranjerosHombres y ExtranjerosMujeres agrupado por DESC_DISTRITO y DESC_BARRIO para los distritos CENTRO, LATINA, CHAMARTIN, TETUAN, VICALVARO y BARAJAS."
   ]
  },
  {
   "attachments": {
    "hivequery6.png": {
     "image/png": "[encoded data removed]"
    }
   },
   "cell_type": "markdown",
   "id": "3a8f7884",
   "metadata": {},
   "source": [
    "select desc_distrito, desc_barrio, sum(espanoleshombres) as espanoleshombres, sum(espanolesmujeres) as espanolesmujeres, sum(extranjeroshombres) as extranjeroshombres, sum(extranjerosmujeres) as extranjerosmujeres  \n",
    "from padron_parquet_2  \n",
    "group by desc_distrito, desc_barrio  \n",
    "having desc_distrito IN ('CENTRO','LATINA','CHAMARTIN','TETUAN','VICALVARO','BARAJAS');\n",
    "\n",
    "![hivequery6.png](attachment:hivequery6.png)"
   ]
  },
  {
   "attachments": {
    "hivequery7.png": {
     "image/png": "[encoded data removed]"
    }
   },
   "cell_type": "markdown",
   "id": "176475b0",
   "metadata": {},
   "source": [
    "select desc_distrito, desc_barrio, sum(espanoleshombres) as espanoleshombres, sum(espanolesmujeres) as espanolesmujeres, sum(extranjeroshombres) as extranjeroshombres, sum(extranjerosmujeres) as extranjerosmujeres  \n",
    "from padron_parquet_2  \n",
    "where desc_distrito IN ('CENTRO','LATINA','CHAMARTIN','TETUAN','VICALVARO','BARAJAS')  \n",
    "group by desc_distrito, desc_barrio;\n",
    "\n",
    "![hivequery7.png](attachment:hivequery7.png)"
   ]
  },
  {
   "cell_type": "markdown",
   "id": "0f920a63",
   "metadata": {},
   "source": [
    "###### • 4.5) Llevar a cabo la consulta en Hive en las tablas padron_parquet y padron_partitionado. ¿Alguna conclusión?"
   ]
  },
  {
   "cell_type": "markdown",
   "id": "85f3f2ed",
   "metadata": {},
   "source": [
    "Query 1:  \n",
    "select desc_distrito, desc_barrio, sum(espanoleshombres) as espanoleshombres, sum(espanolesmujeres) as espanolesmujeres, sum(extranjeroshombres) as extranjeroshombres, sum(extranjerosmujeres) as extranjerosmujeres  \n",
    "from padron_particionado  \n",
    "group by desc_distrito, desc_barrio  \n",
    "having desc_distrito IN ('CENTRO','LATINA','CHAMARTIN','TETUAN','VICALVARO','BARAJAS');\n",
    "\n",
    "Query 2:  \n",
    "select desc_distrito, desc_barrio, sum(espanoleshombres) as espanoleshombres, sum(espanolesmujeres) as espanolesmujeres, sum(extranjeroshombres) as extranjeroshombres, sum(extranjerosmujeres) as extranjerosmujeres  \n",
    "from padron_parquet_2  \n",
    "group by desc_distrito, desc_barrio  \n",
    "having desc_distrito IN ('CENTRO','LATINA','CHAMARTIN','TETUAN','VICALVARO','BARAJAS');\n",
    "\n",
    "Query 3:  \n",
    "select cod_distrito, cod_barrio, sum(espanoleshombres) as espanoleshombres, sum(espanolesmujeres) as espanolesmujeres, sum(extranjeroshombres) as extranjeroshombres, sum(extranjerosmujeres) as extranjerosmujeres  \n",
    "from padron_parquet_2  \n",
    "where cod_distrito IN (1, 5, 10, 19, 6, 21)  \n",
    "group by cod_distrito, cod_barrio;\n",
    "\n",
    "Query 4:  \n",
    "select cod_distrito, cod_barrio, sum(espanoleshombres) as espanoleshombres, sum(espanolesmujeres) as espanolesmujeres, sum(extranjeroshombres) as extranjeroshombres, sum(extranjerosmujeres) as extranjerosmujeres  \n",
    "from padron_particionado  \n",
    "where cod_distrito IN (1, 5, 10, 19, 6, 21)  \n",
    "group by cod_distrito, cod_barrio;"
   ]
  },
  {
   "cell_type": "markdown",
   "id": "15462a3c",
   "metadata": {},
   "source": [
    "En las primeras 2 querys trabajo sobre el ejemplo que hace referencia el ejercicio, y en las ultimas 2 querys trabajo sobre la partición que terminé realizando, debido a que al final hice una partición diferente, tomando en cuenta los cod en vez de los desc (por temas de utf-8). \n",
    "\n",
    "NOTA:\n",
    "Debido a esto observé que la query que menos tardaba era la 3, por lo que me llamó la atención que no fue la query que trabaja los datos particionados en la tabla padron_particionado, ya que trabajo sobre una busqueda de datos particionados, el tema está en que los datos son muy pequeños y tarda más buscando en particiones que ejecutándolo como un todo. Si trabajamos con teras de información si vamos a poder ver que va a tardar menos en tablas particionadas que en las no particionadas. La que más tardaba era la query 1 ya que buscaba unos datos que no tenían que ver sobre la partición en una tabla particionada."
   ]
  },
  {
   "cell_type": "markdown",
   "id": "43f3268c",
   "metadata": {},
   "source": [
    "##### • 4.6) Llevar a cabo la consulta en Impala en las tablas padron_parquet y padron_particionado. ¿Alguna conclusión?"
   ]
  },
  {
   "cell_type": "markdown",
   "id": "6e833f3b",
   "metadata": {},
   "source": [
    "Lo que en Hive tarda entre 25 y 40 segundos aprox en Impala tarda como mucho 1 seg."
   ]
  },
  {
   "cell_type": "markdown",
   "id": "a8540dbf",
   "metadata": {},
   "source": [
    "##### • 4.7) Hacer consultas de agregación (Max, Min, Avg, Count) tal cual el ejemplo anterior con las 3 tablas (padron_txt_2, padron_parquet_2 y padron_particionado) y comparar rendimientos tanto en Hive como en Impala y sacar conclusiones."
   ]
  },
  {
   "cell_type": "markdown",
   "id": "74b9c3ba",
   "metadata": {},
   "source": [
    "HIVE.\n",
    "\n",
    "(Tardó 24.67s)\n",
    "select cod_distrito,   \n",
    "       cod_barrio,   \n",
    "       max(espanoleshombres) as maxEspH,   \n",
    "       max(espanolesmujeres) as maxEspM,   \n",
    "       max(extranjeroshombres) as maxExtH,   \n",
    "       max(extranjerosmujeres) as maxExtM,  \n",
    "       min(espanoleshombres) as minEspH,   \n",
    "       min(espanolesmujeres) as minEspM,   \n",
    "       min(extranjeroshombres) as minExtH,   \n",
    "       min(extranjerosmujeres) as minExtM,  \n",
    "       avg(espanoleshombres) as avgEspH,   \n",
    "       avg(espanolesmujeres) as avgEspM,   \n",
    "       avg(extranjeroshombres) as avgExtH,   \n",
    "       avg(extranjerosmujeres) as avgExtM,  \n",
    "       count(espanoleshombres) as countEspH,   \n",
    "       count(espanolesmujeres) as countEspM,   \n",
    "       count(extranjeroshombres) as countExtH,   \n",
    "       count(extranjerosmujeres) as countExtM  \n",
    "from padron_particionado  \n",
    "where cod_distrito IN (1, 5, 10, 19, 6, 21)  \n",
    "group by cod_distrito, cod_barrio;  \n",
    "\n",
    "En la tabla padron_parquet_2 tardó 25.91s\n",
    "\n",
    "En la tabla padron_txt_2 tardó 24.58s aunque los resultados fueron diferentes ya que existen nulos en las columnas (en esta nunca cambié los nulos a 0)\n",
    "\n",
    "IMPALA.\n",
    "(Tardó 1.4s)\n",
    "select cod_distrito,   \n",
    "       cod_barrio,   \n",
    "       max(espanoleshombres) as maxEspH,   \n",
    "       max(espanolesmujeres) as maxEspM,   \n",
    "       max(extranjeroshombres) as maxExtH,   \n",
    "       max(extranjerosmujeres) as maxExtM,  \n",
    "       min(espanoleshombres) as minEspH,   \n",
    "       min(espanolesmujeres) as minEspM,   \n",
    "       min(extranjeroshombres) as minExtH,   \n",
    "       min(extranjerosmujeres) as minExtM,  \n",
    "       avg(espanoleshombres) as avgEspH,   \n",
    "       avg(espanolesmujeres) as avgEspM,   \n",
    "       avg(extranjeroshombres) as avgExtH,   \n",
    "       avg(extranjerosmujeres) as avgExtM,  \n",
    "       count(espanoleshombres) as countEspH,   \n",
    "       count(espanolesmujeres) as countEspM,   \n",
    "       count(extranjeroshombres) as countExtH,   \n",
    "       count(extranjerosmujeres) as countExtM  \n",
    "from padron_particionado  \n",
    "where cod_distrito IN (1, 5, 10, 19, 6, 21)  \n",
    "group by cod_distrito, cod_barrio;  \n",
    "\n",
    "En la tabla padron_parquet_2 tardó 0s\n",
    "\n",
    "En la tabla padron_txt_2 tardó 0s aunque los resultados fueron diferentes ya que existen nulos en las columnas (en esta nunca cambié los nulos a 0)\n",
    "\n",
    "Sin duda alguna, y como sabemos, Impala es mucho más rápido que Hive."
   ]
  },
  {
   "cell_type": "markdown",
   "id": "853ca47e",
   "metadata": {},
   "source": [
    "### 5- Trabajando con tablas en HDFS. A continuación vamos a hacer una inspección de las tablas, tanto externas (no gestionadas) como internas (gestionadas). Este apartado se hará si se tiene acceso y conocimiento previo sobre cómo insertar datos en HDFS.\n",
    "\n",
    "##### • 5.1) Crear un documento de texto en el almacenamiento local que contenga una secuencia de números distribuidos en filas y separados por columnas, llámalo datos1 y que sea por ejemplo:  \n",
    "1,2,3  \n",
    "4,5,6  \n",
    "7,8,9  "
   ]
  },
  {
   "cell_type": "markdown",
   "id": "a7ec438f",
   "metadata": {},
   "source": [
    "Desde la carpeta de virtualBox en la terminal ejecuto las siguientes líneas:\n",
    "\n",
    "cat > dtos1.txt (pulsar intro)   \n",
    "    1,2,3 (pulsar intro)   \n",
    "    4,5,6 (pulsar intro)   \n",
    "    7,8,9 (pulsar intro)   \n",
    "    (pulsar Control+Z)  "
   ]
  },
  {
   "cell_type": "markdown",
   "id": "9ba25a1c",
   "metadata": {},
   "source": [
    "##### • 5.2) Crear un segundo documento (datos2) con otros números pero la misma estructura."
   ]
  },
  {
   "cell_type": "markdown",
   "id": "c1082dc0",
   "metadata": {},
   "source": [
    "Desde la carpeta de virtualBox en la terminal ejecuto las siguientes líneas:\n",
    "\n",
    "cat > datos2.txt (pulsar intro)   \n",
    "    10,20,30 (pulsar intro)   \n",
    "    40,50,60 (pulsar intro)   \n",
    "    70,80,90 (pulsar intro)   \n",
    "    (pulsar Control+Z)  "
   ]
  },
  {
   "cell_type": "markdown",
   "id": "e71cbe35",
   "metadata": {},
   "source": [
    "##### • 5.3) Crear un directorio en HDFS con un nombre a placer, por ejemplo, /test. Si estás en una máquina Cloudera tienes que asegurarte de que el servicio HDFS está activo ya que puede no iniciarse al encender la máquina (puedes hacerlo desde el Cloudera Manager). A su vez, en las máquinas Cloudera es posible (dependiendo de si usamos Hive desde consola o desde Hue) que no tengamos permisos para crear directorios en HDFS salvo en el directorio /user/cloudera."
   ]
  },
  {
   "cell_type": "markdown",
   "id": "190e6e16",
   "metadata": {},
   "source": [
    "desde la ruta en /user/cloudera escribí la siguiente línea:\n",
    "\n",
    "hdfs dfs -mkdir ejer5padron"
   ]
  },
  {
   "cell_type": "markdown",
   "id": "e8024468",
   "metadata": {},
   "source": [
    "##### • 5.4) Mueve tu fichero datos1 al directorio que has creado en HDFS con un comando desde consola."
   ]
  },
  {
   "cell_type": "markdown",
   "id": "c62242aa",
   "metadata": {},
   "source": [
    "hdfs dfs -put /media/sf_VirtualBox/dtos1.txt /user/cloudera/ejer5padron"
   ]
  },
  {
   "cell_type": "markdown",
   "id": "1b138599",
   "metadata": {},
   "source": [
    "##### • 5.5) Desde Hive, crea una nueva database por ejemplo con el nombre numeros. Crea una tabla que no sea externa y sin argumento location con tres columnas numéricas, campos separados por coma y delimitada por filas. La llamaremos por ejemplo numeros_tbl."
   ]
  },
  {
   "cell_type": "markdown",
   "id": "b4166290",
   "metadata": {},
   "source": [
    "Desde Hue:  \n",
    "\n",
    "create database if not exists numeros;\n",
    "\n",
    "create table if not exists numeros.numerostbl  \n",
    "(columna1 int,  \n",
    "columna2 int,  \n",
    "columna3 int)  \n",
    "row format delimited fields terminated by ',';"
   ]
  },
  {
   "cell_type": "markdown",
   "id": "a5f6455c",
   "metadata": {},
   "source": [
    "##### • 5.6) Carga los datos de nuestro fichero de texto datos1 almacenado en HDFS en la tabla de Hive. Consulta la localización donde estaban anteriormente los datos almacenados. ¿Siguen estando ahí? ¿Dónde están?. Borra la tabla, ¿qué ocurre con los datos almacenados en HDFS?"
   ]
  },
  {
   "cell_type": "markdown",
   "id": "5c3162a6",
   "metadata": {},
   "source": [
    "load data inpath '/user/cloudera/ejer5padron/dtos1.txt' overwrite into table numeros.numerostbl;\n",
    "\n",
    "En Hive me dejó, pero en Impala (solo por probar) me arrojó este error:  \n",
    "AnalysisException: Unable to LOAD DATA from hdfs://quickstart.cloudera:8020/user/cloudera/ejer5padron/dtos1.txt because Impala does not have WRITE permissions on its parent directory hdfs://quickstart.cloudera:8020/user/cloudera/ejer5padron \n",
    "\n",
    "Revisé la tabla en Hue y se hizo perfecto el load data.\n",
    "\n",
    "Ya el archivo no se encuentra donde estaba dentro de hdfs.\n",
    "\n",
    "Borro la tabla como me lo indica el enunciado: drop table numerostbl;\n",
    "\n",
    "Ya no veo los datos almacenados en hdfs."
   ]
  },
  {
   "cell_type": "markdown",
   "id": "f020ac6d",
   "metadata": {},
   "source": [
    "##### • 5.7) Vuelve a mover el fichero de texto datos1 desde el almacenamiento local al directorio anterior en HDFS."
   ]
  },
  {
   "cell_type": "markdown",
   "id": "9f10339e",
   "metadata": {},
   "source": [
    "hdfs dfs -put /media/sf_VirtualBox/dtos1.txt /user/cloudera/ejer5padron"
   ]
  },
  {
   "cell_type": "markdown",
   "id": "2f890455",
   "metadata": {},
   "source": [
    "##### • 5.8) Desde Hive, crea una tabla externa sin el argumento location. Y carga datos1 (desde HDFS) en ella. ¿A dónde han ido los datos en HDFS? Borra la tabla ¿Qué ocurre con los datos en hdfs?"
   ]
  },
  {
   "cell_type": "markdown",
   "id": "2a4a13ac",
   "metadata": {},
   "source": [
    "Desde Hue:  \n",
    "\n",
    "create external table if not exists numeros.numerostblext  \n",
    "(columna1 int,  \n",
    "columna2 int,  \n",
    "columna3 int)  \n",
    "row format delimited fields terminated by ',';\n",
    "\n",
    "load data inpath '/user/cloudera/ejer5padron/dtos1.txt' overwrite into table numeros.numerostblext;\n",
    "\n",
    "Los datos ya no se encuentran en la ruta de hdfs, que sería /user/cloudera/ejer5padron\n",
    "\n",
    "Pero como creamos la tabla externa ahora el archivo lo tenemos en user/hive/warehouse/numerosdb/numerostblext/dtos1.txt\n",
    "\n",
    "Es decir, de hdfs pasó a la ruta del warehouse de hive almacenandose en la tabla\n",
    "\n",
    "Ahora borramos la tabla:\n",
    "drop table numerostblext;\n",
    "\n",
    "Vemos como a diferencia de la creación de la tabla local, al momento de borrar una tabla se borra toda la info en hdfs y tuvimos que volver a copiar el archivo para volver a ejecutar todos los pasos pero ahora guardándolos en una tabla externa, que al momento de borrarla la tabla de la base de datos en hive aún seguíamos teniando los datos en hdfs."
   ]
  },
  {
   "cell_type": "markdown",
   "id": "15774051",
   "metadata": {},
   "source": [
    "##### • 5.9) Borra el fichero datos1 del directorio en el que estén. Vuelve a insertarlos en el directorio que creamos inicialmente (/test). Vuelve a crear la tabla numeros desde hive pero ahora de manera externa y con un argumento location que haga referencia al directorio donde los hayas situado en HDFS (/test). No cargues los datos de ninguna manera explícita. Haz una consulta sobre la tabla que acabamos de crear que muestre todos los registros. ¿Tiene algún contenido?"
   ]
  },
  {
   "cell_type": "markdown",
   "id": "e994b1cf",
   "metadata": {},
   "source": [
    "hdfs dfs -rm /user/hive/warehouse/numeros.db/numerostblext/dtos1.txt\n",
    "\n",
    "hdfs dfs -put /media/sf_VirtualBox/dtos1.txt /user/cloudera/ejer5padron\n",
    "\n",
    "CREATE EXTERNAL TABLE numeros_tbl(\n",
    "columna1 int,\n",
    "columna2 int,\n",
    "columna3 int)\n",
    "LOCATION '/user/cloudera/ejer5padron';\n",
    "\n",
    "Al hacer la consulta:  \n",
    "select *  \n",
    "from  numeros_tbl;  \n",
    "\n",
    "Los campos me aparecen null, salen las 3 columnas y 4 filas."
   ]
  },
  {
   "cell_type": "markdown",
   "id": "88a667b1",
   "metadata": {},
   "source": [
    "##### • 5.10) Inserta el fichero de datos creado al principio, \"datos2\" en el mismo directorio de HDFS que \"datos1\". Vuelve a hacer la consulta anterior sobre la misma tabla. ¿Qué salida muestra?"
   ]
  },
  {
   "cell_type": "markdown",
   "id": "37dbd493",
   "metadata": {},
   "source": [
    "hdfs dfs -put /media/sf_VirtualBox/datos2.txt /user/cloudera/ejer5padron\n",
    "\n",
    "Hacemos la consulta:  \n",
    "select *  \n",
    "from numeros_tbl;\n",
    "\n",
    "Vuelve a mostrar tantas filas como reconoce de los archivos existentes de la ruta, pero las muestra en null ya que no le hemos insertado los archivos explicítamente."
   ]
  },
  {
   "cell_type": "markdown",
   "id": "f4fbcc5b",
   "metadata": {},
   "source": [
    "##### • 5.11) Extrae conclusiones de todos estos anteriores apartados."
   ]
  },
  {
   "cell_type": "markdown",
   "id": "b46505fa",
   "metadata": {},
   "source": [
    "Vemos como al ejecutar la query de pedirle toda la info nos muestra las filas que sabe que existen en los datos de la ruta de ejer5padron, que tiene dtos1.txt y datos2.txt, es decir, muestra 6 filas con puros null, al principio 3 y al agregarle datos2 muestra 3 más. Reconoce que existe en esa ruta esa cantidad de filas provenientes de los archivos existentes en la misma pero como no los hemos cargado explicítamente no nos muestra la info de los mismos."
   ]
  },
  {
   "cell_type": "markdown",
   "id": "dff9164f",
   "metadata": {},
   "source": [
    "### 6- Un poquito de Spark.\n",
    "\n",
    "##### La siguiente sección de la práctica se abordará si ya se tienen suficientes conocimientos de Spark, en concreto de el manejo de DataFrames, y el manejo de tablas de Hive a través de Spark.sql."
   ]
  },
  {
   "cell_type": "markdown",
   "id": "accba81b",
   "metadata": {},
   "source": [
    "##### Todo el punto 6 está hecho en el ejercicioPadronSpark que se encuentra en este mismo repositorio, ya que fue realizado en Databricks.\n",
    "\n",
    "##### A continuación intento conectar Hive y Spark, para poder crear tablas en Hive desde el notebook."
   ]
  },
  {
   "cell_type": "markdown",
   "id": "426b6182",
   "metadata": {},
   "source": [
    "Adrián me comentó que pusiera el archivo hive-site.xml que se encuentra en la ruta /etc/hive/conf a mi carpeta de Spark/conf. Por lo tanto ejecuto esta línea en la shell:\n",
    "\n",
    "cp /etc/hive/conf/hive-site.xml /media/sf_VirtualBox\n",
    "\n",
    "Y luego en la carpeta VirtualBox de mi desktop conpie el archivo y lo pegue en C:Spark/conf\n",
    "\n",
    "Esto lo hago para poder crear bases de datos y tablas en Hive desde el notebook."
   ]
  },
  {
   "cell_type": "code",
   "execution_count": null,
   "id": "756359d8",
   "metadata": {},
   "outputs": [],
   "source": [
    "spark.stop()"
   ]
  },
  {
   "cell_type": "code",
   "execution_count": null,
   "id": "97b2a298",
   "metadata": {},
   "outputs": [],
   "source": [
    "# spark is an existing SparkSession\n",
    "spark.sql(\"CREATE TABLE IF NOT EXISTS desdeNotebook (columna1 int,columna2 int,columna3 int) USING hive\")\n",
    "spark.sql(\"LOAD DATA LOCAL INPATH '/user/cloudera/ejer5padron/datos3.txt' INTO TABLE desdeNotebook\")\n",
    "\n",
    "# Queries are expressed in HiveQL\n",
    "spark.sql(\"SELECT * FROM desdeNotebook\").show()"
   ]
  },
  {
   "cell_type": "code",
   "execution_count": 38,
   "id": "e481595a",
   "metadata": {},
   "outputs": [],
   "source": [
    "from pyspark.sql import SparkSession\n",
    "import pyspark.sql.functions as F\n",
    "# Create a SparkSession\n",
    "spark = (SparkSession\n",
    " .builder\n",
    " .appName(\"SparkPadron\")\n",
    " .master(\"local\")\n",
    " .enableHiveSupport()\n",
    " .getOrCreate())"
   ]
  },
  {
   "cell_type": "code",
   "execution_count": 39,
   "id": "e2e6d310",
   "metadata": {},
   "outputs": [],
   "source": [
    "csv_file = \"Rango_Edades_Seccion_202106.csv\""
   ]
  },
  {
   "cell_type": "code",
   "execution_count": 40,
   "id": "0d956fc8",
   "metadata": {},
   "outputs": [],
   "source": [
    "df = (spark.read.format(\"csv\")\n",
    " .option(\"inferSchema\", \"true\")\n",
    " .option(\"header\", \"true\")\n",
    " .option(\"quote\", '\"')\n",
    " .option(\"escape\", '\"')\n",
    " .option(\"emptyValue\",\"0\")\n",
    " .load(csv_file))"
   ]
  },
  {
   "cell_type": "code",
   "execution_count": 41,
   "id": "7cde5ae5",
   "metadata": {},
   "outputs": [
    {
     "data": {
      "text/plain": [
       "['\"COD_DISTRITO\";\"DESC_DISTRITO\";\"COD_DIST_BARRIO\";\"DESC_BARRIO\";\"COD_BARRIO\";\"COD_DIST_SECCION\";\"COD_SECCION\";\"COD_EDAD_INT\";\"EspanolesHombres\";\"EspanolesMujeres\";\"ExtranjerosHombres\";\"ExtranjerosMujeres\"']"
      ]
     },
     "execution_count": 41,
     "metadata": {},
     "output_type": "execute_result"
    }
   ],
   "source": [
    "df.columns"
   ]
  },
  {
   "cell_type": "markdown",
   "id": "44b7e0d8",
   "metadata": {},
   "source": [
    "### 7- ¿Y si juntamos Spark y Hive?  \n",
    "##### • 7.1) Por último, prueba a hacer los ejercicios sugeridos en la parte de Hive con el csv \"Datos Padrón\" (incluyendo la importación con Regex) utilizando desde Spark EXCLUSIVAMENTE sentencias spark.sql, es decir, importar los archivos desde local directamente como tablas de Hive y haciendo todas las consultas sobre estas tablas sin transformarlas en ningún momento en DataFrames ni DataSets."
   ]
  },
  {
   "cell_type": "markdown",
   "id": "237b9dfe",
   "metadata": {},
   "source": []
  }
 ],
 "metadata": {
  "kernelspec": {
   "display_name": "Python 3",
   "language": "python",
   "name": "python3"
  },
  "language_info": {
   "codemirror_mode": {
    "name": "ipython",
    "version": 3
   },
   "file_extension": ".py",
   "mimetype": "text/x-python",
   "name": "python",
   "nbconvert_exporter": "python",
   "pygments_lexer": "ipython3",
   "version": "3.8.8"
  }
 },
 "nbformat": 4,
 "nbformat_minor": 5
}
